{
 "cells": [
  {
   "cell_type": "markdown",
   "metadata": {},
   "source": [
    "# Linear regression with one feature"
   ]
  },
  {
   "cell_type": "markdown",
   "metadata": {},
   "source": [
    "### ***Hypothesis function*** \n",
    "#### $h_{\\theta}(x) = \\theta_{0} + \\theta_{1}x$\n",
    "\n",
    "### ***Cost function***\n",
    "#### $J(\\theta_{0}, \\theta_{1}) =\\frac1{2m} \\sum_{i=1}^{m}\\limits (h_{\\theta}(x_{i}) - y_{i})^2$\n",
    "\n",
    "### ***Gradient descent*** \n",
    "#### $\\theta_{i} = \\theta_{i} - \\alpha \\frac{\\partial}{\\partial \\theta_{i}}J( \\theta_{0}, \\theta_{1})$\n",
    "\n",
    "### ***Gradient descent for linear regression*** \n",
    "#### $\\theta_{0} = \\theta_{0} - \\alpha \\frac1m \\sum_{i=1}^{m}\\limits (h_{\\theta}(x_{i}) - y_{i})$\n",
    "#### $\\theta_{1} = \\theta_{1} - \\alpha \\frac1m \\sum_{i=1}^{m}\\limits ((h_{\\theta}(x_{i}) - y_{i})x_{i})$"
   ]
  },
  {
   "cell_type": "code",
   "execution_count": 1,
   "metadata": {},
   "outputs": [],
   "source": [
    "import numpy as np\n",
    "import pylab as plt\n",
    "import matplotlib\n",
    "import matplotlib.cm as cm"
   ]
  },
  {
   "cell_type": "code",
   "execution_count": 196,
   "metadata": {},
   "outputs": [],
   "source": [
    "n = 8\n",
    "sizeInp = np.zeros(n, dtype=int)\n",
    "priceInp = np.zeros(n, dtype=int)\n",
    "sizeInp[0] = 950\n",
    "priceInp[0] = 1000\n",
    "sizeInp[1] = 1535\n",
    "priceInp[1] = 1300\n",
    "sizeInp[2] = 1605\n",
    "priceInp[2] = 1500\n",
    "sizeInp[3] = 1905\n",
    "priceInp[3] = 1900\n",
    "sizeInp[4] = 2057\n",
    "priceInp[4] = 2000\n",
    "sizeInp[5] = 2227\n",
    "priceInp[5] = 2100\n",
    "sizeInp[6] = 3150\n",
    "priceInp[6] = 2899\n",
    "sizeInp[7] = 3620\n",
    "priceInp[7] = 3000"
   ]
  },
  {
   "cell_type": "code",
   "execution_count": 197,
   "metadata": {},
   "outputs": [
    {
     "name": "stdout",
     "output_type": "stream",
     "text": [
      "[ 950 1535 1605 1905 2057 2227 3150 3620]\n",
      "[1000 1300 1500 1900 2000 2100 2899 3000]\n"
     ]
    }
   ],
   "source": [
    "print(sizeInp)\n",
    "print(priceInp)"
   ]
  },
  {
   "cell_type": "code",
   "execution_count": 6,
   "metadata": {},
   "outputs": [],
   "source": [
    "def featureNormalize(data):\n",
    "    maxV = np.amax(data)\n",
    "    minV = np.amin(data)\n",
    "    deviation = maxV - minV\n",
    "    sz = len(data)\n",
    "    mean = np.sum(data)/sz\n",
    "    \n",
    "    normData = np.zeros(n, dtype = float)\n",
    "    for i in range(n):\n",
    "        normData[i] = (data[i] - mean)/deviation\n",
    "    return normData"
   ]
  },
  {
   "cell_type": "code",
   "execution_count": 199,
   "metadata": {},
   "outputs": [
    {
     "name": "stdout",
     "output_type": "stream",
     "text": [
      "[-0.44236891 -0.22326779 -0.19705056 -0.08469101 -0.02776217  0.03590824\n",
      "  0.38160112  0.55763109]\n",
      "[1000 1300 1500 1900 2000 2100 2899 3000]\n"
     ]
    }
   ],
   "source": [
    "price = priceInp\n",
    "size = featureNormalize(sizeInp)\n",
    "print(size)\n",
    "print (price)"
   ]
  },
  {
   "cell_type": "code",
   "execution_count": 200,
   "metadata": {},
   "outputs": [],
   "source": [
    "def hypothesis(a0, a1, x):\n",
    "    return a0 + a1*x\n",
    "\n",
    "def update_hyp(a0, a1, hypPrice, size, n):\n",
    "    for i in range(n):\n",
    "        hypPrice[i] = hypothesis(a0, a1, size[i])\n",
    "\n",
    "def cost_function(hypPrice, price, n):\n",
    "    return np.sum((hypPrice - price)**2)/(2*n)\n",
    "\n",
    "def gradient_descent(size, price):\n",
    "    a0 = 0\n",
    "    a1 = 0\n",
    "    eps = 10**(-10)\n",
    "    alpha = 0.3\n",
    "\n",
    "    hypPrice = np.zeros(n)\n",
    "    update_hyp(a0, a1, hypPrice, price, n)\n",
    "\n",
    "    prevVal = cost_function(hypPrice, price, n)\n",
    "    curVal = prevVal\n",
    "    flag = False\n",
    "    iteration = 0\n",
    "    costFunc = np.zeros(10000)\n",
    "    while(iteration < 10000 and (not flag or abs(curVal - prevVal) > eps)):\n",
    "        flag = True\n",
    "        prevVal = curVal\n",
    "        \n",
    "        temp0 = a0 - alpha * (np.sum(hypPrice - price))/n \n",
    "        temp1 = a1 - alpha * (np.sum((hypPrice - price)*size))/n\n",
    "        a0 = temp0\n",
    "        a1 = temp1\n",
    "        \n",
    "        update_hyp(a0, a1, hypPrice, size, n)\n",
    "        curVal = cost_function(hypPrice, price, n)\n",
    "        costFunc[iteration] = curVal\n",
    "        iteration = iteration + 1\n",
    "    return a0, a1, costFunc, iteration"
   ]
  },
  {
   "cell_type": "code",
   "execution_count": 201,
   "metadata": {},
   "outputs": [
    {
     "data": {
      "text/plain": [
       "[<matplotlib.lines.Line2D at 0x7fcccfb62630>]"
      ]
     },
     "execution_count": 201,
     "metadata": {},
     "output_type": "execute_result"
    },
    {
     "data": {
      "image/png": "[encoded data removed]",
      "text/plain": [
       "<matplotlib.figure.Figure at 0x7fcccfc74400>"
      ]
     },
     "metadata": {},
     "output_type": "display_data"
    }
   ],
   "source": [
    "a0, a1, costFunc, iteration = gradient_descent(size, price)\n",
    "costFunc = costFunc[:iteration]\n",
    "plt.plot(costFunc)"
   ]
  },
  {
   "cell_type": "code",
   "execution_count": 202,
   "metadata": {},
   "outputs": [
    {
     "name": "stdout",
     "output_type": "stream",
     "text": [
      "570\n",
      "[ 960 1545 1615 1915 2067 2236 3159 3629]\n",
      "[1000 1300 1500 1900 2000 2100 2899 3000]\n",
      "1962.3749999999998 2146.0830545929703\n"
     ]
    }
   ],
   "source": [
    "print(iteration)\n",
    "intHypPrice = np.zeros(n, dtype=int)\n",
    "for i in range(n):\n",
    "    intHypPrice[i] = int(hypPrice[i])\n",
    "print(intHypPrice)\n",
    "print(price)\n",
    "print(a0, a1)"
   ]
  },
  {
   "cell_type": "code",
   "execution_count": 205,
   "metadata": {},
   "outputs": [
    {
     "data": {
      "text/plain": [
       "[<matplotlib.lines.Line2D at 0x7fcccfadfd30>]"
      ]
     },
     "execution_count": 205,
     "metadata": {},
     "output_type": "execute_result"
    },
    {
     "data": {
      "image/png": "[encoded data removed]",
      "text/plain": [
       "<matplotlib.figure.Figure at 0x7fcccfadf390>"
      ]
     },
     "metadata": {},
     "output_type": "display_data"
    }
   ],
   "source": [
    "x = np.linspace(-1, 1)\n",
    "y = a0 + a1*x\n",
    "plt.plot(x, y)\n",
    "plt.plot(size, price, 'ro')"
   ]
  },
  {
   "cell_type": "code",
   "execution_count": 204,
   "metadata": {},
   "outputs": [],
   "source": [
    "def finalPrice(x):\n",
    "    maxV = np.amax(sizeInp)\n",
    "    minV = np.amin(sizeInp)\n",
    "    deviation = maxV - minV\n",
    "    sz = len(sizeInp)\n",
    "    mean = np.sum(sizeInp)/sz\n",
    "    newX = (x-mean)/deviation\n",
    "    newPrice = a0 + a1*newX\n",
    "    return newPrice"
   ]
  },
  {
   "cell_type": "markdown",
   "metadata": {},
   "source": [
    "# Linear regression with multiple features"
   ]
  },
  {
   "cell_type": "code",
   "execution_count": 2,
   "metadata": {},
   "outputs": [],
   "source": [
    "m = 8\n",
    "featuresNum = 2\n",
    "size = np.zeros(m, dtype=int)\n",
    "roomsNum = np.zeros(m, dtype=int)\n",
    "price = np.zeros(m, dtype=int)\n",
    "size[0] = 950\n",
    "roomsNum[0] = 1\n",
    "price[0] = 1000\n",
    "size[1] = 1535\n",
    "roomsNum[1] = 1\n",
    "price[1] = 1300\n",
    "size[2] = 1605\n",
    "roomsNum[2] = 1\n",
    "price[2] = 1500\n",
    "size[3] = 1905\n",
    "roomsNum[3] = 2\n",
    "price[3] = 1900\n",
    "size[4] = 2057\n",
    "roomsNum[4] = 2\n",
    "price[4] = 2000\n",
    "size[5] = 2227\n",
    "roomsNum[5] = 3\n",
    "price[5] = 2100\n",
    "size[6] = 3150\n",
    "roomsNum[6] = 2\n",
    "price[6] = 2899\n",
    "size[7] = 3620\n",
    "roomsNum[7] = 3 \n",
    "price[7] = 3000"
   ]
  },
  {
   "cell_type": "code",
   "execution_count": 12,
   "metadata": {},
   "outputs": [
    {
     "name": "stdout",
     "output_type": "stream",
     "text": [
      "[[   1  950    1]\n",
      " [   1 1535    1]\n",
      " [   1 1605    1]\n",
      " [   1 1905    2]\n",
      " [   1 2057    2]\n",
      " [   1 2227    3]\n",
      " [   1 3150    2]\n",
      " [   1 3620    3]]\n"
     ]
    }
   ],
   "source": [
    "x1 = size\n",
    "x2 = roomsNum\n",
    "y = price\n",
    "originX = np.zeros([m, featuresNum + 1], dtype=int)\n",
    "originX[:, 0]  = np.ones(m)\n",
    "originX[:, 1] = x1\n",
    "originX[:, 2] = x2\n",
    "print(originX)"
   ]
  },
  {
   "cell_type": "code",
   "execution_count": 13,
   "metadata": {},
   "outputs": [
    {
     "name": "stdout",
     "output_type": "stream",
     "text": [
      "[[ 1.         -0.44236891 -0.4375    ]\n",
      " [ 1.         -0.22326779 -0.4375    ]\n",
      " [ 1.         -0.19705056 -0.4375    ]\n",
      " [ 1.         -0.08469101  0.0625    ]\n",
      " [ 1.         -0.02776217  0.0625    ]\n",
      " [ 1.          0.03590824  0.5625    ]\n",
      " [ 1.          0.38160112  0.0625    ]\n",
      " [ 1.          0.55763109  0.5625    ]]\n"
     ]
    }
   ],
   "source": [
    "def mean_matrix(originX):\n",
    "    meanMatrix = np.zeros(len(originX) - 1)\n",
    "    for i in range(1, originX.shape[1]):\n",
    "        meanMatrix[i-1] = np.sum(originX[:, i])/originX.shape[0]\n",
    "    return meanMatrix\n",
    "\n",
    "def deviation_matrix(originX):\n",
    "    deviationMatrix = np.zeros(len(originX) - 1)\n",
    "    for i in range(1, originX.shape[1]):\n",
    "        deviationMatrix[i-1] = np.amax(originX[:, i]) - np.amin(originX[:, i])\n",
    "    return deviationMatrix\n",
    "\n",
    "def featureNormalize(data):\n",
    "    maxV = np.amax(data)\n",
    "    minV = np.amin(data)\n",
    "    deviation = maxV - minV\n",
    "    sz = len(data)\n",
    "    mean = np.sum(data)/sz\n",
    "    \n",
    "    normData = np.zeros(sz, dtype = float)\n",
    "    for i in range(sz):\n",
    "        normData[i] = (data[i] - mean)/deviation\n",
    "    return normData\n",
    "\n",
    "x = np.ones([m, featuresNum + 1])\n",
    "for i in range(1, x.shape[1]):\n",
    "    x[:, i] = featureNormalize(originX[:, i])\n",
    "    \n",
    "print(x)"
   ]
  },
  {
   "cell_type": "code",
   "execution_count": 24,
   "metadata": {},
   "outputs": [],
   "source": [
    "def hypothesis(theta, x):\n",
    "    return np.dot(theta.T, x)\n",
    "\n",
    "def update_price(hypPrice, theta, x):\n",
    "    for i in range(len(hypPrice)):\n",
    "        hypPrice[i] = hypothesis(theta, x[i])\n",
    "    return hypPrice\n",
    "        \n",
    "def cost_func(hypPrice, y):\n",
    "    m = len(y)\n",
    "    return np.sum((hypPrice - y)**2)/(2*m)\n",
    "\n",
    "def gradient_descent(x, y):\n",
    "    theta = np.zeros(x.shape[1])\n",
    "    alpha = 0.5\n",
    "    eps = 10**(-10)\n",
    "    \n",
    "    hypPrice = np.zeros(len(y))\n",
    "    hypPrice = update_price(hypPrice, theta, x)\n",
    "    \n",
    "    prevVal = cost_func(hypPrice, y)\n",
    "    curVal = prevVal\n",
    "    flag = False\n",
    "    iteration = 0\n",
    "    costFunc = np.zeros(10000)\n",
    "    \n",
    "    while(iteration < 10000 and (not flag or abs(curVal - prevVal) > eps)):\n",
    "        flag = True\n",
    "        prevVal = curVal\n",
    "        \n",
    "        m = len(theta)\n",
    "        temp = np.zeros(m)\n",
    "        for i in range(m):\n",
    "            temp[i] = theta[i] - alpha * np.sum((hypPrice - y)*x[:, i])/m\n",
    "        theta = temp\n",
    "        update_price(hypPrice, theta, x)\n",
    "        curVal = cost_func(hypPrice, y)\n",
    "        costFunc[iteration] = curVal\n",
    "        iteration = iteration + 1\n",
    "    return theta, costFunc, iteration"
   ]
  },
  {
   "cell_type": "code",
   "execution_count": 25,
   "metadata": {},
   "outputs": [
    {
     "data": {
      "text/plain": [
       "[<matplotlib.lines.Line2D at 0x7f97709d3438>]"
      ]
     },
     "execution_count": 25,
     "metadata": {},
     "output_type": "execute_result"
    },
    {
     "data": {
      "image/png": "[encoded data removed]",
      "text/plain": [
       "<matplotlib.figure.Figure at 0x7f97709b6208>"
      ]
     },
     "metadata": {},
     "output_type": "display_data"
    }
   ],
   "source": [
    "theta, costFunc, iteration = gradient_descent(x, y)\n",
    "costFunc = costFunc[:iteration]\n",
    "plt.plot(costFunc)"
   ]
  },
  {
   "cell_type": "code",
   "execution_count": 23,
   "metadata": {},
   "outputs": [
    {
     "name": "stdout",
     "output_type": "stream",
     "text": [
      "[1962.375      2016.05834892  133.96403111]\n"
     ]
    }
   ],
   "source": [
    "print(theta)"
   ]
  },
  {
   "cell_type": "code",
   "execution_count": 17,
   "metadata": {},
   "outputs": [],
   "source": [
    "def predictY(newX, theta, originX):\n",
    "    meanMatrix = mean_matrix(originX)\n",
    "    deviationMatrix = deviation_matrix(originX)\n",
    "    normalizedX = np.zeros(len(newX))\n",
    "    for i in range(len(newX)):\n",
    "        normalizedX[i] = (newX[i] - meanMatrix[i])/deviationMatrix[i]\n",
    "    xExpand = np.ones(len(newX) + 1)\n",
    "    xExpand[1:] = normalizedX\n",
    "    return np.dot(theta.T, xExpand)"
   ]
  },
  {
   "cell_type": "code",
   "execution_count": 20,
   "metadata": {},
   "outputs": [
    {
     "name": "stdout",
     "output_type": "stream",
     "text": [
      "7912.362411246616\n"
     ]
    }
   ],
   "source": [
    "print(predictY([10000, 2], theta, originX))"
   ]
  },
  {
   "cell_type": "code",
   "execution_count": null,
   "metadata": {},
   "outputs": [],
   "source": []
  },
  {
   "cell_type": "code",
   "execution_count": null,
   "metadata": {},
   "outputs": [],
   "source": []
  }
 ],
 "metadata": {
  "kernelspec": {
   "display_name": "Python 3",
   "language": "python",
   "name": "python3"
  },
  "language_info": {
   "codemirror_mode": {
    "name": "ipython",
    "version": 3
   },
   "file_extension": ".py",
   "mimetype": "text/x-python",
   "name": "python",
   "nbconvert_exporter": "python",
   "pygments_lexer": "ipython3",
   "version": "3.6.4"
  }
 },
 "nbformat": 4,
 "nbformat_minor": 2
}
